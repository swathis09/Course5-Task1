{
 "cells": [
  {
   "cell_type": "code",
   "execution_count": 7,
   "metadata": {},
   "outputs": [
    {
     "data": {
      "text/plain": [
       "65"
      ]
     },
     "execution_count": 7,
     "metadata": {},
     "output_type": "execute_result"
    }
   ],
   "source": [
    "myString = \"Python is a great language.\"\n",
    "ord('A')\n"
   ]
  },
  {
   "cell_type": "code",
   "execution_count": 6,
   "metadata": {},
   "outputs": [
    {
     "name": "stdout",
     "output_type": "stream",
     "text": [
      "123456\n"
     ]
    }
   ],
   "source": [
    "mystr=str(123456)\n",
    "print(mystr)"
   ]
  },
  {
   "cell_type": "code",
   "execution_count": 9,
   "metadata": {},
   "outputs": [
    {
     "data": {
      "text/plain": [
       "False"
      ]
     },
     "execution_count": 9,
     "metadata": {},
     "output_type": "execute_result"
    }
   ],
   "source": [
    "type(2) is int\n"
   ]
  },
  {
   "cell_type": "code",
   "execution_count": 11,
   "metadata": {},
   "outputs": [
    {
     "ename": "SyntaxError",
     "evalue": "invalid character in identifier (<ipython-input-11-1b06d77a284a>, line 1)",
     "output_type": "error",
     "traceback": [
      "\u001b[1;36m  File \u001b[1;32m\"<ipython-input-11-1b06d77a284a>\"\u001b[1;36m, line \u001b[1;32m1\u001b[0m\n\u001b[1;33m    Hello” in \"Hello Goodbye\"\u001b[0m\n\u001b[1;37m         ^\u001b[0m\n\u001b[1;31mSyntaxError\u001b[0m\u001b[1;31m:\u001b[0m invalid character in identifier\n"
     ]
    }
   ],
   "source": [
    "Hello” in \"Hello Goodbye\""
   ]
  },
  {
   "cell_type": "code",
   "execution_count": 13,
   "metadata": {},
   "outputs": [
    {
     "data": {
      "text/plain": [
       "datetime.datetime(2019, 4, 5, 13, 2, 45, 656468)"
      ]
     },
     "execution_count": 13,
     "metadata": {},
     "output_type": "execute_result"
    }
   ],
   "source": [
    "import datetime\n",
    "datetime.datetime.now()"
   ]
  },
  {
   "cell_type": "code",
   "execution_count": 14,
   "metadata": {},
   "outputs": [
    {
     "data": {
      "text/plain": [
       "'2019-04-05'"
      ]
     },
     "execution_count": 14,
     "metadata": {},
     "output_type": "execute_result"
    }
   ],
   "source": [
    "str(datetime.datetime.now().date())"
   ]
  },
  {
   "cell_type": "code",
   "execution_count": 15,
   "metadata": {},
   "outputs": [
    {
     "name": "stdout",
     "output_type": "stream",
     "text": [
      "Wall time: 1.01 ms\n"
     ]
    },
    {
     "data": {
      "text/plain": [
       "()"
      ]
     },
     "execution_count": 15,
     "metadata": {},
     "output_type": "execute_result"
    }
   ],
   "source": [
    "time()"
   ]
  },
  {
   "cell_type": "code",
   "execution_count": 17,
   "metadata": {},
   "outputs": [],
   "source": [
    "def SayHello():\n",
    " print('Hello There!')\n"
   ]
  },
  {
   "cell_type": "code",
   "execution_count": 18,
   "metadata": {},
   "outputs": [
    {
     "name": "stdout",
     "output_type": "stream",
     "text": [
      "Hello There!\n"
     ]
    }
   ],
   "source": [
    "SayHello()"
   ]
  },
  {
   "cell_type": "code",
   "execution_count": 25,
   "metadata": {},
   "outputs": [
    {
     "data": {
      "text/plain": [
       "8"
      ]
     },
     "execution_count": 25,
     "metadata": {},
     "output_type": "execute_result"
    }
   ],
   "source": [
    "def DoSum(Value1, Value2):\n",
    " return Value1 + Value2\n",
    "DoSum(6,2)"
   ]
  },
  {
   "cell_type": "code",
   "execution_count": 28,
   "metadata": {},
   "outputs": [
    {
     "name": "stdout",
     "output_type": "stream",
     "text": [
      "6 + 7 = 13\n"
     ]
    }
   ],
   "source": [
    "def DisplaySum(Value1, Value2):\n",
    " print(str(Value1) + ' + ' + str(Value2) + ' = ' +\n",
    " str((Value1 + Value2)))\n",
    "DisplaySum(6,7)"
   ]
  },
  {
   "cell_type": "code",
   "execution_count": 32,
   "metadata": {},
   "outputs": [
    {
     "name": "stdout",
     "output_type": "stream",
     "text": [
      "No Value Supplied\n",
      "HI\n"
     ]
    }
   ],
   "source": [
    "def SayHello(Greeting = \"No Value Supplied\"):\n",
    " print(Greeting)\n",
    "SayHello()\n",
    "SayHello('HI')\n"
   ]
  },
  {
   "cell_type": "code",
   "execution_count": 38,
   "metadata": {},
   "outputs": [
    {
     "name": "stdout",
     "output_type": "stream",
     "text": [
      "You passed 0 arguments. ()\n",
      "You passed 3 arguments. ('Hello', 1, True)\n"
     ]
    }
   ],
   "source": [
    "def DisplayMulti(ArgCount = 0, *VarArgs):\n",
    " print('You passed ' + str(ArgCount) + ' arguments.',VarArgs)\n",
    "DisplayMulti()\n",
    "DisplayMulti(3,'Hello',1,True)\n",
    " "
   ]
  },
  {
   "cell_type": "code",
   "execution_count": 45,
   "metadata": {},
   "outputs": [
    {
     "name": "stdout",
     "output_type": "stream",
     "text": [
      "Value is something else.\n",
      "It equals 100\n",
      "Value equals 5!\n",
      "It equals 5\n",
      "Value equals 6!\n",
      "It equals 6\n"
     ]
    }
   ],
   "source": [
    "def TestValue(Value):\n",
    " if Value == 5:\n",
    "  print('Value equals 5!')\n",
    " elif Value == 6:\n",
    "  print('Value equals 6!')\n",
    " else:\n",
    "  print('Value is something else.')\n",
    " print('It equals ' + str(Value))\n",
    "TestValue(100)\n",
    "TestValue(5)\n",
    "TestValue(6)"
   ]
  },
  {
   "cell_type": "code",
   "execution_count": 58,
   "metadata": {},
   "outputs": [
    {
     "name": "stdout",
     "output_type": "stream",
     "text": [
      "Type a number between 1 and 10: 15\n",
      "Type a number between 1 and 10: 2\n",
      "Incorrect first value!\n"
     ]
    }
   ],
   "source": [
    "def SecretNumber():\n",
    " One = int(input(\"Type a number between 1 and 10: \"))\n",
    " Two = int(input(\"Type a number between 1 and 10: \"))\n",
    " if (One >= 1) and (One <= 10):\n",
    "   if (Two >= 1) and (Two <= 10):\n",
    "    print('Your secret number is: ' + str(One * Two))\n",
    "   else :\n",
    "    print(\"Incorrect second value!\")\n",
    " else :\n",
    "   print(\"Incorrect first value!\")\n",
    "SecretNumber()\n"
   ]
  },
  {
   "cell_type": "code",
   "execution_count": 62,
   "metadata": {},
   "outputs": [
    {
     "name": "stdout",
     "output_type": "stream",
     "text": [
      "Good Argument: Hello\n",
      "Good Argument: goodbye\n",
      "Good Argument: Yes\n",
      "Good Argument: No\n",
      "Good Argument: Hello\n",
      "Good Argument: doodde\n"
     ]
    }
   ],
   "source": [
    "def DisplayMulti(*VarArgs):\n",
    "  for Arg in VarArgs:\n",
    "    if Arg.upper() == 'CONT':\n",
    "     continue\n",
    "     print('Continue Argument: ' + Arg)\n",
    "    elif Arg.upper() == 'BREAK':\n",
    "     break\n",
    "     print('Break Argument: ' + Arg)\n",
    "    print('Good Argument: ' + Arg)\n",
    "\n",
    "DisplayMulti(\"Hello\",\"goodbye\",\"Yes\",\"No\")\n",
    "DisplayMulti(\"Hello\",\"cont\",\"doodde\",\"break\")"
   ]
  },
  {
   "cell_type": "code",
   "execution_count": 66,
   "metadata": {},
   "outputs": [
    {
     "name": "stdout",
     "output_type": "stream",
     "text": [
      "Type a number between 1 and 10: 2\n",
      "Type a number between 1 and 10: 2\n",
      "Secret number is: 4\n",
      "try again\n"
     ]
    }
   ],
   "source": [
    "def SecretNumber():\n",
    " GotIt = False\n",
    " while GotIt == False:\n",
    "  One = int(input(\"Type a number between 1 and 10: \"))\n",
    "  Two = int(input(\"Type a number between 1 and 10: \"))\n",
    "  if (One >= 1) and (One <= 10):\n",
    "   if (Two >= 1) and (Two <= 10):\n",
    "     print('Secret number is: ' + str(One * Two))\n",
    "     GotIt = True\n",
    "     continue\n",
    "   else:\n",
    "     print(\"Incorrect second value!\")\n",
    "  else:\n",
    "   print(\"Incorrect first value\")\n",
    " print(\"try again\")\n",
    "\n",
    "SecretNumber()"
   ]
  },
  {
   "cell_type": "code",
   "execution_count": 83,
   "metadata": {},
   "outputs": [
    {
     "name": "stdout",
     "output_type": "stream",
     "text": [
      "{'Black', 'Green', 'Orange', 'Red', 'Yellow', 'Blue'} \n",
      " {'Black', 'Green'} \n",
      " {'Red', 'Blue'}\n"
     ]
    }
   ],
   "source": [
    "# from sets import Set --> no longer required. its inbuilt now\n",
    "SetA = set(['Red', 'Blue', 'Green', 'Black'])\n",
    "SetB = set(['Black', 'Green', 'Yellow', 'Orange'])\n",
    "SetX = SetA.union(SetB)\n",
    "SetY = SetA.intersection(SetB)\n",
    "SetZ = SetA.difference(SetB)\n",
    "\n",
    "#print '{0}\\n{1}\\n{2}'.format(SetX, SetY, SetZ)\n",
    "print(SetX,'\\n',SetY,'\\n',SetZ)"
   ]
  },
  {
   "cell_type": "code",
   "execution_count": 85,
   "metadata": {},
   "outputs": [
    {
     "data": {
      "text/plain": [
       "True"
      ]
     },
     "execution_count": 85,
     "metadata": {},
     "output_type": "execute_result"
    }
   ],
   "source": [
    "SetA.issuperset(SetY)\n",
    "SetA.issubset(SetX)\n"
   ]
  },
  {
   "cell_type": "code",
   "execution_count": 87,
   "metadata": {},
   "outputs": [
    {
     "name": "stdout",
     "output_type": "stream",
     "text": [
      "{'Black', 'Green', 'Red', 'Purple', 'Blue'}\n"
     ]
    }
   ],
   "source": [
    "SetA.add('Purple')\n",
    "print(SetA)"
   ]
  },
  {
   "cell_type": "code",
   "execution_count": 92,
   "metadata": {},
   "outputs": [
    {
     "data": {
      "text/plain": [
       "[0, 1, 2, 3, 4, 6, 7, 5]"
      ]
     },
     "execution_count": 92,
     "metadata": {},
     "output_type": "execute_result"
    }
   ],
   "source": [
    "ListA = [0, 1, 2, 3]\n",
    "ListB = [4, 5, 6, 7]\n",
    "ListA.extend(ListB)\n",
    "ListA\n",
    "ListA.append(5)\n",
    "ListA\n",
    "ListA.remove(5)\n",
    "ListA"
   ]
  },
  {
   "cell_type": "code",
   "execution_count": 93,
   "metadata": {
    "collapsed": true
   },
   "outputs": [],
   "source": [
    "MyTuple = (1, 2, 3, (4, 5, 6, (7, 8, 9)))"
   ]
  },
  {
   "cell_type": "code",
   "execution_count": 97,
   "metadata": {},
   "outputs": [
    {
     "name": "stdout",
     "output_type": "stream",
     "text": [
      "1\n",
      "2\n",
      "3\n",
      "\t 4\n",
      "\t 5\n",
      "\t 6\n",
      "\t\t 7\n",
      "\t\t 8\n",
      "\t\t 9\n"
     ]
    }
   ],
   "source": [
    "for Value1 in MyTuple:\n",
    "    if type(Value1) == int:\n",
    "        print (Value1)\n",
    "    else:\n",
    "        for Value2 in Value1:\n",
    "            if type(Value2) == int:\n",
    "                print (\"\\t\", Value2)\n",
    "            else:\n",
    "                for Value3 in Value2:\n",
    "                    print (\"\\t\\t\", Value3)"
   ]
  },
  {
   "cell_type": "code",
   "execution_count": 99,
   "metadata": {},
   "outputs": [
    {
     "name": "stdout",
     "output_type": "stream",
     "text": [
      "1\n",
      "2\n",
      "3\n",
      "\t 4\n",
      "\t 5\n",
      "\t 6\n",
      "\t\t 7\n",
      "\t\t 8\n",
      "\t\t 9\n",
      "10\n",
      "11\n",
      "12\n",
      "\t 13\n",
      "\t 14\n",
      "\t 15\n"
     ]
    }
   ],
   "source": [
    "MyNewTuple = MyTuple.__add__((10, 11, 12, (13, 14, 15)))\n",
    "for Value1 in MyNewTuple:\n",
    "    if type(Value1) == int:\n",
    "        print (Value1)\n",
    "    else:\n",
    "        for Value2 in Value1:\n",
    "            if type(Value2) == int:\n",
    "                print (\"\\t\", Value2)\n",
    "            else:\n",
    "                for Value3 in Value2:\n",
    "                    print (\"\\t\\t\", Value3)"
   ]
  },
  {
   "cell_type": "code",
   "execution_count": 102,
   "metadata": {},
   "outputs": [
    {
     "data": {
      "text/plain": [
       "[2, 3]"
      ]
     },
     "execution_count": 102,
     "metadata": {},
     "output_type": "execute_result"
    }
   ],
   "source": [
    "ListA = ['Orange', 'Yellow', 'Green', 'Brown']\n",
    "ListB = [1, 2, 3, 4]\n",
    "ListA[1]\n",
    "ListB[1:3]"
   ]
  },
  {
   "cell_type": "code",
   "execution_count": 104,
   "metadata": {},
   "outputs": [
    {
     "name": "stdout",
     "output_type": "stream",
     "text": [
      "2\n",
      "3\n"
     ]
    }
   ],
   "source": [
    "for Value in ListB[1:3]:\n",
    "    print (Value)"
   ]
  },
  {
   "cell_type": "code",
   "execution_count": 105,
   "metadata": {},
   "outputs": [
    {
     "data": {
      "text/plain": [
       "[1, 2, 3]"
      ]
     },
     "execution_count": 105,
     "metadata": {},
     "output_type": "execute_result"
    }
   ],
   "source": [
    "ListB[:3]"
   ]
  },
  {
   "cell_type": "code",
   "execution_count": 107,
   "metadata": {},
   "outputs": [
    {
     "name": "stdout",
     "output_type": "stream",
     "text": [
      "Orange \t 1\n",
      "Yellow \t 2\n",
      "Green \t 3\n",
      "Brown \t 4\n"
     ]
    }
   ],
   "source": [
    "# zip - parallel\n",
    "\n",
    "for Value1, Value2 in zip(ListA, ListB):\n",
    "    print (Value1, '\\t', Value2)"
   ]
  },
  {
   "cell_type": "code",
   "execution_count": 115,
   "metadata": {},
   "outputs": [
    {
     "data": {
      "text/plain": [
       "3"
      ]
     },
     "execution_count": 115,
     "metadata": {},
     "output_type": "execute_result"
    }
   ],
   "source": [
    "MyDict ={'Orange':1, 'Blue':2, 'Pink':3}\n",
    "MyDict.keys()\n",
    "MyDict.values()\n",
    "MyDict['Pink']"
   ]
  }
 ],
 "metadata": {
  "kernelspec": {
   "display_name": "Python 3",
   "language": "python",
   "name": "python3"
  },
  "language_info": {
   "codemirror_mode": {
    "name": "ipython",
    "version": 3
   },
   "file_extension": ".py",
   "mimetype": "text/x-python",
   "name": "python",
   "nbconvert_exporter": "python",
   "pygments_lexer": "ipython3",
   "version": "3.6.2"
  }
 },
 "nbformat": 4,
 "nbformat_minor": 2
}
